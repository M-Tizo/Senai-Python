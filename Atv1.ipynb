{
 "cells": [
  {
   "cell_type": "code",
   "execution_count": null,
   "metadata": {},
   "outputs": [],
   "source": [
    "#ETAPA 1\n",
    "\n",
    "print(\"Bem-vindo(a) ao labirinto digital.\")\n",
    "\n",
    "print(\"Para sair deste local terá de passar por alguns desafios.\")\n",
    "\n",
    "codigo = \"girassolverde127\"\n",
    "tent = 1\n",
    "\n",
    "while True:\n",
    "    resp = input(\"Digite o codigo secreto para sair: \")\n",
    "    if resp == codigo:\n",
    "        print(\"Parabéns você saiu do calabouso!\")\n",
    "        break\n",
    "    else:\n",
    "        print(f\"Codigo errado! Essa foi sua tentativa de número {tent}\")\n",
    "        tent += 1\n",
    "        if tent == 3:\n",
    "            print(\"Sua primeira dica das 3 que lhe podem ser dadas é: Algo que nasce buscando a luz.\")\n",
    "        elif tent == 6:\n",
    "            print(\"Sua segunda dica é: O que define aquilo que você busca esperança e sorte.\")\n",
    "        elif tent == 9:\n",
    "            print(\"Sua terceira dica e última!! 💀 De primo em primo se pula proximo.\")\n",
    "\n"
   ]
  },
  {
   "cell_type": "code",
   "execution_count": null,
   "metadata": {},
   "outputs": [],
   "source": [
    "#ETAPA 2\n",
    "\n",
    "print(\"Você chegou a um túnel escuro que estava por trás da porta do calabouso.\")\n",
    "passos = 1\n",
    "qtd_p = 0\n",
    "while True:\n",
    "    print(\"Você decide que ficar parado não seria uma boa opção e decide seguir em frente\")\n",
    "    qtd_p = int(input(\"Quantos passos você dara: \"))\n",
    "    passos += qtd_p\n",
    "    if passos >= 20 and passos <= 30:\n",
    "        print(f\"Parabéns após {passos} passos, seu esforço valeu apena e você encontra algo diferente a sua frente....\")\n",
    "        break\n",
    "    for i in range(qtd_p):\n",
    "        print(f\"Você da seu {i} passo\")\n",
    "    print(f\"Completando {passos} passos\")\n",
    "    \n",
    "    if passos >= 30:\n",
    "        passos = 0\n",
    "        print(\"Você percebe que retornou ao ponto oonde começou e seus passos foram em vão.\")"
   ]
  },
  {
   "cell_type": "code",
   "execution_count": null,
   "metadata": {},
   "outputs": [
    {
     "name": "stdout",
     "output_type": "stream",
     "text": [
      "Assim que saiu do túnei você se deparou com uma porta cheia de números perigosa\n",
      "Para poder passar e ficar livre, você precissara inserir uma sequência de números mágicos\n"
     ]
    }
   ],
   "source": [
    "#ETAPA 3\n",
    "import random\n",
    "print(\"Assim que saiu do túnei você se deparou com uma porta cheia de números perigosa\")\n",
    "print(\"Para poder passar e ficar livre, você precissara inserir uma sequência de números mágicos\")\n",
    "\n",
    "\n",
    "total = 0\n",
    "\n",
    "while True:\n",
    "    num = input(\"Digite qualquer número: \")\n",
    "    nume = int(num)\n",
    "    if \"0\" in num:\n",
    "        a = random.randint(1,3)\n",
    "        if a == 2:\n",
    "            if nume <= -1:\n",
    "                print(\"Inválido\")\n",
    "            else:\n",
    "                print(f\"Porta se abre!! seu total foi de {total}\")\n",
    "            break\n",
    "        else:\n",
    "            if nume <= -1:\n",
    "                print(\"Inválido\")\n",
    "            else:\n",
    "                print(\"A porta reage, mas não se abre 😭 \")\n",
    "    elif nume <= -1:\n",
    "        print(\"Inválido.\") \n",
    "    else:\n",
    "        total += nume"
   ]
  }
 ],
 "metadata": {
  "kernelspec": {
   "display_name": "Python 3",
   "language": "python",
   "name": "python3"
  },
  "language_info": {
   "codemirror_mode": {
    "name": "ipython",
    "version": 3
   },
   "file_extension": ".py",
   "mimetype": "text/x-python",
   "name": "python",
   "nbconvert_exporter": "python",
   "pygments_lexer": "ipython3",
   "version": "3.13.2"
  }
 },
 "nbformat": 4,
 "nbformat_minor": 2
}
