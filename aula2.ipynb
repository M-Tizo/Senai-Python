{
 "cells": [
  {
   "cell_type": "markdown",
   "metadata": {},
   "source": [
    "# Aula if e else\n",
    "\n",
    "Operadores de comparação\n",
    "\n",
    "Retorna um valor boleano (True e False)"
   ]
  },
  {
   "cell_type": "code",
   "execution_count": 2,
   "metadata": {},
   "outputs": [
    {
     "name": "stdout",
     "output_type": "stream",
     "text": [
      "True\n"
     ]
    }
   ],
   "source": [
    "#Maior que\n",
    "print(20 > 6)"
   ]
  },
  {
   "cell_type": "code",
   "execution_count": 3,
   "metadata": {},
   "outputs": [
    {
     "name": "stdout",
     "output_type": "stream",
     "text": [
      "True\n"
     ]
    }
   ],
   "source": [
    "#Maior ou igual \n",
    "\n",
    "print(8 >= 8)"
   ]
  },
  {
   "cell_type": "code",
   "execution_count": 4,
   "metadata": {},
   "outputs": [
    {
     "name": "stdout",
     "output_type": "stream",
     "text": [
      "True\n"
     ]
    }
   ],
   "source": [
    "#Menor que \n",
    "print(4 < 7)"
   ]
  },
  {
   "cell_type": "code",
   "execution_count": 5,
   "metadata": {},
   "outputs": [
    {
     "name": "stdout",
     "output_type": "stream",
     "text": [
      "False\n"
     ]
    }
   ],
   "source": [
    "#Menor ou igual\n",
    "print(94 <= 80)"
   ]
  },
  {
   "cell_type": "code",
   "execution_count": 6,
   "metadata": {},
   "outputs": [
    {
     "name": "stdout",
     "output_type": "stream",
     "text": [
      "True\n"
     ]
    }
   ],
   "source": [
    "#Igual que\n",
    "print(33 == 33)"
   ]
  },
  {
   "cell_type": "code",
   "execution_count": 7,
   "metadata": {},
   "outputs": [
    {
     "name": "stdout",
     "output_type": "stream",
     "text": [
      "True\n"
     ]
    }
   ],
   "source": [
    "#Diferente\n",
    "print(17 != 3)"
   ]
  },
  {
   "cell_type": "markdown",
   "metadata": {},
   "source": [
    "# Condicional IF e ELSE\n"
   ]
  },
  {
   "cell_type": "code",
   "execution_count": 10,
   "metadata": {},
   "outputs": [
    {
     "name": "stdout",
     "output_type": "stream",
     "text": [
      "É verdadeiro\n"
     ]
    }
   ],
   "source": [
    "if 5 == 5:\n",
    "    print(\"É verdadeiro\")"
   ]
  },
  {
   "cell_type": "code",
   "execution_count": 11,
   "metadata": {},
   "outputs": [
    {
     "name": "stdout",
     "output_type": "stream",
     "text": [
      "Maior de idade\n"
     ]
    }
   ],
   "source": [
    "idade = 27\n",
    "if idade >= 18:\n",
    "    print(\"Maior de idade\")"
   ]
  },
  {
   "cell_type": "code",
   "execution_count": 12,
   "metadata": {},
   "outputs": [
    {
     "name": "stdout",
     "output_type": "stream",
     "text": [
      "Parece que o python funciona!\n"
     ]
    }
   ],
   "source": [
    "if True:\n",
    "    print(\"Parece que o python funciona!\")"
   ]
  },
  {
   "cell_type": "code",
   "execution_count": 13,
   "metadata": {},
   "outputs": [
    {
     "name": "stdout",
     "output_type": "stream",
     "text": [
      "é falso\n"
     ]
    }
   ],
   "source": [
    "#Condicional com if e else\n",
    "if 10 < 5:\n",
    "    print(\"é verdadeiro\")\n",
    "else:\n",
    "    print(\"é falso\")"
   ]
  },
  {
   "cell_type": "code",
   "execution_count": 20,
   "metadata": {},
   "outputs": [
    {
     "name": "stdout",
     "output_type": "stream",
     "text": [
      "Acesso negado!\n"
     ]
    }
   ],
   "source": [
    "idade = int(input(\"Digite a sua idade: \"))\n",
    "if idade >= 18:\n",
    "    print(\"Bem-vindo\")\n",
    "else:\n",
    "    print(\"Acesso negado!\")"
   ]
  },
  {
   "cell_type": "code",
   "execution_count": null,
   "metadata": {},
   "outputs": [
    {
     "name": "stdout",
     "output_type": "stream",
     "text": [
      "Senha correta!\n"
     ]
    }
   ],
   "source": [
    "senha = input(\"Digite sua senha: \")\n",
    "senha_correta = \"123\"\n",
    "if senha != senha_correta:\n",
    "    print(\"Senha Incorreta!\") \n",
    "else:\n",
    "    print(\"Senha correta!\")"
   ]
  },
  {
   "cell_type": "code",
   "execution_count": 52,
   "metadata": {},
   "outputs": [
    {
     "name": "stdout",
     "output_type": "stream",
     "text": [
      "Está um pouco frio! ☕\n"
     ]
    }
   ],
   "source": [
    "#Usando o operador elif - para validar mais de uma condição\n",
    "temperatura = int(input(\"Digite a temperatura em graus celsius: \"))\n",
    "if temperatura >= 30:\n",
    "    print(\"Está muito quente! 🤒\")\n",
    "elif temperatura >= 20:\n",
    "    print(\"O clima está agradavel! 🥳\")\n",
    "elif temperatura >= 10:\n",
    "    print(\"Está um pouco frio! ☕\")\n",
    "else:\n",
    "    print(\"Está muito frio! 🥶🧣\")\n"
   ]
  },
  {
   "cell_type": "code",
   "execution_count": null,
   "metadata": {},
   "outputs": [],
   "source": [
    "#Exercicio\n",
    "import random \n",
    "import time \n",
    "\n",
    "try:\n",
    "    print(\"Bem-Vindo aventureiro(a), você chegou a uma sala do castelo com apenas 3 portas.\")\n",
    "    opc = int(input(\"\"\" \n",
    "        Sua vida pode depender disso, e isso te deixa incerto sobre suas escolhas, as açãos a seguir podem ser suas ultimas.\n",
    "            Você deseja:\n",
    "                    1 - Seguir a diante pela porta a sua direta.\n",
    "                    2 - Seguir a diante pela porta a sua frente.\n",
    "                    3 - Seguir a diante pela porta a sua esquerda.\n",
    "                    4 - Deixe a sorte decidir por você.\n",
    "                    5 - Dane-se isso, de meia volta e vá para casa. \n",
    "                    \n",
    "        \"\"\"))\n",
    "    if opc == 1:\n",
    "        print(\"Seu destino te aguarda a direita......\")\n",
    "        time.sleep(1.40)\n",
    "        print(\"O destino pode ser generoso com as pessoas....\")\n",
    "        time.sleep(1.50)\n",
    "        print(\"Esse não o seu caso...\")\n",
    "        time.sleep(1.30)\n",
    "        print(\"Você encontra um dragão ( ≖.≖), oq fazer agora?\")\n",
    "    elif opc == 2:\n",
    "        print(\"Seu destino te aguarda a frente......\")\n",
    "        time.sleep(1.47)\n",
    "        print(\"O destino pode ser generoso com as pessoas....\")\n",
    "        time.sleep(1.57)\n",
    "        print(\"Esse foi o seu caso!\")\n",
    "        time.sleep(1.2)\n",
    "        print(\"Você encontrou um tesouro a frente! (⊙.⊙)\")\n",
    "    elif opc == 3:\n",
    "        print(\"Seu destino te aguarda a esquerda......\")\n",
    "        time.sleep(1.47)\n",
    "        print(\"O destino pode ser generoso com as pessoas....\")\n",
    "        time.sleep(1.57)\n",
    "        print(\"Esse talvez seja o seu caso!\")\n",
    "        time.sleep(1.2)\n",
    "        print(\"Você encontrou uma sala secreta! uma biblioteca cheia de livros magicos! (⊙.⊙)\")\n",
    "    elif opc == 4:\n",
    "        print(\"Seu destino sera definido pela sua sorte......\")\n",
    "        time.sleep(1.47)\n",
    "        print(\"O destino pode ser generoso com as pessoas....\")\n",
    "        time.sleep(1.57)\n",
    "        print(\"Esse talvez seja o seu caso!\")\n",
    "        time.sleep(1.2)\n",
    "        chute = random.randrange(1-3)\n",
    "        print(\"Você aponta para a porta e usa uma musica boba como base para ao final dela a parta onde o dedo parar ser a escolhida.\")\n",
    "        time.sleep(1.47)\n",
    "        print(f\"O escolhindo {chute}....\")\n",
    "        chute = random.randrange(1-3)\n",
    "        time.sleep(1.47)\n",
    "        print(f\"Foi{chute}....\")\n",
    "        chute = random.randrange(1-3)\n",
    "        time.sleep(1.47)\n",
    "        print(f\"Você!{chute}\")\n",
    "except TypeError:\n",
    "    print(\"Favor utilizar apenas uma das opções fornecidas! (ㆆ_ㆆ)\")\n",
    "        "
   ]
  },
  {
   "cell_type": "markdown",
   "metadata": {},
   "source": [
    "# Operadores Lógicos"
   ]
  },
  {
   "cell_type": "code",
   "execution_count": 58,
   "metadata": {},
   "outputs": [
    {
     "name": "stdout",
     "output_type": "stream",
     "text": [
      "Você pode entrar no evento!\n"
     ]
    }
   ],
   "source": [
    "#Operador or (ou)\n",
    "#True and True - retorna True\n",
    "#False and True - retorna True\n",
    "#Ture and False - retorna True\n",
    "#False and False - retorna False\n",
    "tem_ingresso = True\n",
    "nome_na_lista = False\n",
    "if tem_ingresso or nome_na_lista:\n",
    "    print(\"Você pode entrar no evento!\")\n",
    "else:\n",
    "    print(\"Você não pode entrar!\")"
   ]
  },
  {
   "cell_type": "code",
   "execution_count": 66,
   "metadata": {},
   "outputs": [
    {
     "name": "stdout",
     "output_type": "stream",
     "text": [
      "É dia util\n"
     ]
    }
   ],
   "source": [
    "#Operador or (ou)\n",
    "dia = input(\"Digite o dia da semana: \").lower()\n",
    "\n",
    "if dia == \"sabado\" or dia == \"domingo\" or dia == \"sábado\": \n",
    "    print(\"É fim de semana!\")\n",
    "else:\n",
    "    print(\"É dia util\")"
   ]
  },
  {
   "cell_type": "code",
   "execution_count": 67,
   "metadata": {},
   "outputs": [
    {
     "name": "stdout",
     "output_type": "stream",
     "text": [
      "Acesso negado!\n"
     ]
    }
   ],
   "source": [
    "#Operador not (Negação)\n",
    "tem_permissao = False #O usuário não tem permissão para entrar no evento\n",
    "\n",
    "if True:\n",
    "    print(\"Acesso negado!\")\n",
    "else:\n",
    "    print(\"Bem-vindo ao evento!\")"
   ]
  },
  {
   "cell_type": "code",
   "execution_count": 68,
   "metadata": {},
   "outputs": [
    {
     "name": "stdout",
     "output_type": "stream",
     "text": [
      "Resultado da expressão: False\n"
     ]
    }
   ],
   "source": [
    "#Prioridade de operadores lógicos\n",
    "# 1- not\n",
    "# 2 - and\n",
    "# 3 - or\n",
    "\n",
    "a = True\n",
    "b = False\n",
    "c = True\n",
    "\n",
    "resultado = not a or b and c\n",
    "print(f\"Resultado da expressão: {resultado}\")"
   ]
  },
  {
   "cell_type": "markdown",
   "metadata": {},
   "source": [
    "# Condicionais aninhadas"
   ]
  },
  {
   "cell_type": "code",
   "execution_count": 70,
   "metadata": {},
   "outputs": [
    {
     "name": "stdout",
     "output_type": "stream",
     "text": [
      "Você é menor de idade\n"
     ]
    }
   ],
   "source": [
    "idade = int(input(\"Digte sua idade: \"))\n",
    "\n",
    "if idade >= 18:\n",
    "    if idade > 60:\n",
    "        print(\"Você é um idoso!\")\n",
    "    else:\n",
    "        print(\"Você é um adulto\")\n",
    "else:\n",
    "    print(\"Você é menor de idade\")"
   ]
  },
  {
   "cell_type": "code",
   "execution_count": 20,
   "metadata": {},
   "outputs": [
    {
     "name": "stdout",
     "output_type": "stream",
     "text": [
      "Sistema de interrogatorio\n",
      "Você é inocente\n"
     ]
    }
   ],
   "source": [
    "print(\"Sistema de interrogatorio\")\n",
    "\n",
    "resp = 0\n",
    "\n",
    "pg1 = input(\"Telefonou para a vítima?(s/n): \").lower().strip()\n",
    "if pg1 == \"s\":\n",
    "    resp += 1\n",
    "pg2 = input(\"Esteve no local do crime?(s/n): \").lower().strip()\n",
    "if pg2 == \"s\":\n",
    "    resp += 1\n",
    "pg3 = input(\"Mora perto da vítima?(s/n): \").lower().strip()\n",
    "if pg3 == \"s\":\n",
    "    resp += 1\n",
    "pg4 = input(\"Devia para a vítima?(s/n): \").lower().strip()\n",
    "if pg4 == \"s\":\n",
    "    resp += 1\n",
    "pg5 = input(\"Já trabalhou com a vítima?(s/n): \").lower().strip()\n",
    "if pg5 == \"s\":\n",
    "    resp += 1\n",
    "\n",
    "\n",
    "\n",
    "if resp == 2:\n",
    "    print(\"Você é suspeito de ter cometido o crime!\")\n",
    "elif resp == 3 or resp == 4:\n",
    "    print(\"Você é cumplice de ter cometido o crime!\")\n",
    "elif resp == 5:\n",
    "    print(\"Você é culpado por ter cometido o crime!\")\n",
    "else:\n",
    "    print(\"Você é inocente\")\n"
   ]
  }
 ],
 "metadata": {
  "kernelspec": {
   "display_name": "Python 3",
   "language": "python",
   "name": "python3"
  },
  "language_info": {
   "codemirror_mode": {
    "name": "ipython",
    "version": 3
   },
   "file_extension": ".py",
   "mimetype": "text/x-python",
   "name": "python",
   "nbconvert_exporter": "python",
   "pygments_lexer": "ipython3",
   "version": "3.13.2"
  }
 },
 "nbformat": 4,
 "nbformat_minor": 2
}
