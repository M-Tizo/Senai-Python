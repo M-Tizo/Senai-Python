{
 "cells": [
  {
   "cell_type": "code",
   "execution_count": null,
   "metadata": {},
   "outputs": [],
   "source": [
    "#Para verificar a existencia de um item na lista/vetor\n",
    "letras = [\"a\",\"b\",\"c\",\"d\",\"e\",\"f\"]\n",
    "var = input(\"Informe a letra que deseja buscar: \").lower()\n",
    "\n",
    "if var in letras:\n",
    "    print(f\"A letra {var} está na lista\")\n",
    "else:\n",
    "    print(f\"A letra {var} NÂO está na lista\")"
   ]
  },
  {
   "cell_type": "code",
   "execution_count": 1,
   "metadata": {},
   "outputs": [
    {
     "name": "stdout",
     "output_type": "stream",
     "text": [
      "['']\n",
      "\n"
     ]
    }
   ],
   "source": [
    "tarefas = []\n",
    "\n",
    "while True:\n",
    "    tarefa = input(\"Digite uma tarefa ou 0 para sair: \").lower()\n",
    "    if tarefa == \"0\":\n",
    "        break\n",
    "    tarefas.append(tarefa)\n",
    "print(tarefas)\n",
    "\n",
    "for item in tarefas:\n",
    "    print(f\"{item}\")"
   ]
  },
  {
   "cell_type": "code",
   "execution_count": null,
   "metadata": {},
   "outputs": [
    {
     "name": "stdout",
     "output_type": "stream",
     "text": [
      "cachorro\n",
      "papagaio\n",
      "hamster\n"
     ]
    }
   ],
   "source": [
    "animais = [\"cachorro\",\"gato\", \"papagaio\", \"peixe\", \"hamster\"]\n",
    "\n",
    "#1\n",
    "print(animais[0])\n",
    "#2\n",
    "print(animais[2])\n",
    "#3\n",
    "print(animais[-1])"
   ]
  },
  {
   "cell_type": "code",
   "execution_count": null,
   "metadata": {},
   "outputs": [
    {
     "name": "stdout",
     "output_type": "stream",
     "text": [
      "['maça', 'laranja', 'melancia']\n"
     ]
    }
   ],
   "source": [
    "frutas = [\"maça\",\"banana\",\"laranja\"]\n",
    "\n",
    "#1\n",
    "frutas.append(\"melancia\")\n",
    "#2\n",
    "frutas.remove(\"banana\")\n",
    "#3\n",
    "print(frutas)"
   ]
  },
  {
   "cell_type": "code",
   "execution_count": 9,
   "metadata": {},
   "outputs": [
    {
     "name": "stdout",
     "output_type": "stream",
     "text": [
      "Número: 4\n",
      "Número: 7\n",
      "Número: 2\n",
      "Número: 9\n"
     ]
    }
   ],
   "source": [
    "numeros = [4,7,2,9]\n",
    "\n",
    "for i, numeros in enumerate(numeros):\n",
    "    print(f\"Número: {numeros}\")"
   ]
  },
  {
   "cell_type": "code",
   "execution_count": 10,
   "metadata": {},
   "outputs": [
    {
     "name": "stdout",
     "output_type": "stream",
     "text": [
      "['azul', 'roxo', 'amarelo', 'vermelho']\n"
     ]
    }
   ],
   "source": [
    "cores = [\"azul\",\"verde\",\"amarelo\",\"vermelho\"]\n",
    "cores[1] = \"roxo\"\n",
    "print(cores)"
   ]
  },
  {
   "cell_type": "code",
   "execution_count": 13,
   "metadata": {},
   "outputs": [
    {
     "name": "stdout",
     "output_type": "stream",
     "text": [
      "['carro', 'ônibus', 'moto', 'bicicleta']\n"
     ]
    }
   ],
   "source": [
    "auto = [\"carro\",\"moto\",\"bicicleta\"]\n",
    "auto.insert(1,\"ônibus\")\n",
    "print(auto)"
   ]
  },
  {
   "cell_type": "code",
   "execution_count": null,
   "metadata": {},
   "outputs": [],
   "source": [
    "#Exercício 6\n",
    "numeros = [1,2,3,4,5]\n",
    "print(numeros[-1])\n",
    "numeros.pop()\n",
    "print(numeros)"
   ]
  },
  {
   "cell_type": "markdown",
   "metadata": {},
   "source": [
    "# Trabalhando com Dicionarios\n"
   ]
  },
  {
   "cell_type": "code",
   "execution_count": null,
   "metadata": {},
   "outputs": [],
   "source": [
    "#Lista\n",
    "estudantes_l = [\"Carlos\",36,\"Gabriel\",14,\"Otávio\", 28]\n",
    "print(type(estudantes_l))"
   ]
  },
  {
   "cell_type": "code",
   "execution_count": null,
   "metadata": {},
   "outputs": [],
   "source": [
    "#Tupla\n",
    "estudantes_t = (\"Carlos\",36,\"Gabriel\",14,\"Otávio\", 28)\n",
    "print(type(estudantes_t))"
   ]
  },
  {
   "cell_type": "code",
   "execution_count": null,
   "metadata": {},
   "outputs": [],
   "source": [
    "#Conjunto(set)\n",
    "numeros = {1,2,3,4,5,6,7,7}\n",
    "print(numeros)\n",
    "print(type(numeros))"
   ]
  },
  {
   "cell_type": "code",
   "execution_count": null,
   "metadata": {},
   "outputs": [],
   "source": [
    "#Dicionário {chave:valor}\n",
    "estudantes_d = {\"Maria\": 17, \"Marlon\": 44, \"Sophia\": 31}\n",
    "print(type(estudantes_d))\n",
    "print(estudantes_d)"
   ]
  },
  {
   "cell_type": "code",
   "execution_count": 2,
   "metadata": {},
   "outputs": [
    {
     "name": "stdout",
     "output_type": "stream",
     "text": [
      "Nome do aluno Maria\n",
      "O nome do aluno(a) é Maria, ele(a) tem 17 anos e está fazendo o curso de Python.\n",
      "Guilherme\n",
      "Guilherme\n",
      "{'nome': 'Guilherme', 'curso': 'Python', 'nota': 9.5}\n"
     ]
    }
   ],
   "source": [
    "#Criando um dicionário\n",
    "aluno = {\n",
    "    \"nome\": \"Maria\",\n",
    "    \"idade\": 17,\n",
    "    \"curso\": \"Python\",\n",
    "}\n",
    "\n",
    "#Acessando valores \n",
    "print(f\"Nome do aluno {aluno['nome']}\")\n",
    "\n",
    "#Exibir os dados do aluno\n",
    "print(f\"O nome do aluno(a) é {aluno['nome']}, ele(a) tem {aluno['idade']} anos e está fazendo o curso de {aluno['curso']}.\")\n",
    "\n",
    "#Alterar o valor do dicionário\n",
    "aluno[\"nome\"] = \"Guilherme\"\n",
    "\n",
    "print(aluno[\"nome\"])\n",
    "\n",
    "#Adicionar um novo valor (chave e valor )\n",
    "aluno[\"nota\"] = 9.5\n",
    "print(aluno[\"nome\"])\n",
    "\n",
    "#Removendo uma chave\n",
    "del aluno[\"idade\"]\n",
    "print(aluno)"
   ]
  },
  {
   "cell_type": "code",
   "execution_count": 4,
   "metadata": {},
   "outputs": [
    {
     "name": "stdout",
     "output_type": "stream",
     "text": [
      "Chaves do dicionario dict_keys(['marca', 'modelo', 'ano'])\n",
      "Valores do dicionario dict_values(['VW', 'NIVUS', 2023])\n",
      "Itens do dicionario dict_items([('marca', 'VW'), ('modelo', 'NIVUS'), ('ano', 2023)])\n"
     ]
    }
   ],
   "source": [
    "#Obter itens, chaves e valores\n",
    "carro = {\n",
    "    \"marca\":\"VW\",\n",
    "    \"modelo\": \"NIVUS\",\n",
    "    \"ano\": 2023\n",
    "}\n",
    "\n",
    "print(f\"Chaves do dicionario {carro.keys()}\")\n",
    "print(f\"Valores do dicionario {carro.values()}\")\n",
    "print(f\"Itens do dicionario {carro.items()}\")"
   ]
  },
  {
   "cell_type": "code",
   "execution_count": 7,
   "metadata": {},
   "outputs": [
    {
     "name": "stdout",
     "output_type": "stream",
     "text": [
      "Produto teclado custa: 300.5\n"
     ]
    }
   ],
   "source": [
    "#Exemplo 1\n",
    "produtos = {    \n",
    "    \"mouse\": 99.90,\n",
    "    \"teclado\": 300.50,\n",
    "    \"monitor\": 900.00,\n",
    "    \"placa de video\": 2000.00,\n",
    "    \"hd externo\": 120.00\n",
    "}\n",
    "while True:\n",
    "    produto = input(\"Informe o produto para pesquisar o preço ou digite 0 para sair: \").lower()\n",
    "    if produto == \"0\":\n",
    "        break\n",
    "    elif produto in produtos:\n",
    "        print(f\"Produto {produto} custa: {produtos[produto]}\")"
   ]
  },
  {
   "cell_type": "code",
   "execution_count": null,
   "metadata": {},
   "outputs": [],
   "source": [
    "#Exemplo 2\n",
    "alunos = {}\n",
    "\n",
    "alunos[\"nome\"] = input(\"Digite o seu nome: \").lower()\n",
    "alunos[\"media\"] = float(input(f\"Digite a media do {alunos[\"nome\"]}: \"))\n",
    "\n",
    "if alunos[\"media\"] > 7:\n",
    "    alunos[\"situacao\"] = \"aprovado\"\n",
    "elif alunos[\"media\"] >= 5:\n",
    "    alunos[\"situacao\"] = \"recuperação\"\n",
    "else:\n",
    "    alunos[\"situacao\"] = \"reprovado\"\n",
    "\n",
    "#exibindo valor do dicionario\n",
    "for chave, valor in alunos.items():\n",
    "    print(f\"\")"
   ]
  },
  {
   "cell_type": "code",
   "execution_count": null,
   "metadata": {},
   "outputs": [],
   "source": [
    "\n",
    "produtos = {    \n",
    "    \"celular\": 1500,\n",
    "    \"câmera\": 1000,\n",
    "    \"fone de ouvido\": 800,\n",
    "    \"monitor\": 2000\n",
    "}\n",
    "while True:\n",
    "    produto = input(\"Digite o nome do produto para consultar o preço, ou digite 0 para sair: \").lower()\n",
    "    if produto == \"0\":\n",
    "        break\n",
    "    elif produto in produtos:\n",
    "        print(f\"Produto {produto} custa: {produtos[produto]}\")\n",
    "    elif produto not in produtos:\n",
    "        opc = input(\"Produto não encontrado, Deseja adiciona-lo?(sim/nao): \").lower()\n",
    "        if opc == \"sim\":\n",
    "            produtos[produto] = produto\n",
    "            val = float(input(f\"Digite o valor do produto {produtos[produto]}: \"))\n",
    "            produtos[produto] = val\n",
    "            print(\"Produto adionado com sucesso!\")\n",
    "            print(f\"Produto {produto} custa: {produtos[produto]}\")\n",
    "        elif opc == \"nao\" or opc == \"não\":\n",
    "            pass\n",
    "        else:\n",
    "            print(\"opção invalida\")"
   ]
  },
  {
   "cell_type": "code",
   "execution_count": null,
   "metadata": {},
   "outputs": [],
   "source": [
    "\n"
   ]
  }
 ],
 "metadata": {
  "kernelspec": {
   "display_name": "Python 3",
   "language": "python",
   "name": "python3"
  },
  "language_info": {
   "codemirror_mode": {
    "name": "ipython",
    "version": 3
   },
   "file_extension": ".py",
   "mimetype": "text/x-python",
   "name": "python",
   "nbconvert_exporter": "python",
   "pygments_lexer": "ipython3",
   "version": "3.13.5"
  }
 },
 "nbformat": 4,
 "nbformat_minor": 2
}
