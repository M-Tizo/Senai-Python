{
 "cells": [
  {
   "cell_type": "markdown",
   "id": "c351d8b1",
   "metadata": {},
   "source": [
    "# Trabalhando com funções\n"
   ]
  },
  {
   "cell_type": "code",
   "execution_count": null,
   "id": "f76e5b74",
   "metadata": {},
   "outputs": [
    {
     "name": "stdout",
     "output_type": "stream",
     "text": [
      "Olá, mundo!\n"
     ]
    }
   ],
   "source": [
    "# Criar uma função\n",
    "def nome_da_funcao():\n",
    "    #Bloco de codigo\n",
    "    print(\"Olá, mundo!\")\n",
    "\n",
    "#chamar função\n",
    "nome_da_funcao()"
   ]
  },
  {
   "cell_type": "code",
   "execution_count": null,
   "id": "c53a66a9",
   "metadata": {},
   "outputs": [
    {
     "name": "stdout",
     "output_type": "stream",
     "text": [
      "Bem-vindo(a) Maria\n",
      "Bem-vindo(a) Marlon\n"
     ]
    }
   ],
   "source": [
    "#Funções com parametros\n",
    "#parametro nome usado na definição da função def nome(nome)\n",
    "def saudacao(nome):\n",
    "    print(f\"Bem-vindo(a) {nome}\")\n",
    "nome = input(\"Qual o seu nome: \")\n",
    "saudacao(nome)\n",
    "#ou\n",
    "#Argumento é o valor real passado ao chamar a função\n",
    "saudacao(\"Marlon\")"
   ]
  },
  {
   "cell_type": "code",
   "execution_count": null,
   "id": "5a54f79d",
   "metadata": {},
   "outputs": [
    {
     "name": "stdout",
     "output_type": "stream",
     "text": [
      "4\n"
     ]
    }
   ],
   "source": [
    "#Função com retorno\n",
    "def soma(num,num1):\n",
    "    soma = num + num1\n",
    "    # ou return num + num1\n",
    "    return soma\n",
    "\n",
    "num2 = int(input(\"Digite um numero para soma: \"))\n",
    "num3 = int(input(\"Digite o outro numero para a soma: \"))\n",
    "print(f\"O resultado da soma é: {soma(num2,num3)}\")\n",
    "\n",
    "#ou\n",
    "\n",
    "resultado = soma(10,5)\n",
    "print(f\"O resultado da some de 10 e 5 é {resultado}\")"
   ]
  },
  {
   "cell_type": "code",
   "execution_count": null,
   "id": "2a266038",
   "metadata": {},
   "outputs": [],
   "source": [
    "def soma(n1,n2):\n",
    "    return n1 + n2\n",
    "def subtracao(n1,n2):\n",
    "    return n1 - n2\n",
    "def multiplicacao(n1,n2):\n",
    "    return n1 * n2\n",
    "def divisao(n1,n2):\n",
    "    return n1 / n2\n",
    "\n",
    "print(\"-\"*50)\n",
    "print(\"Bem-vindo a calculadora basica!\")\n",
    "print(\"-\"*50)\n",
    "\n",
    "numero1 = int(input(\"Digite um numero: \"))\n",
    "opc = input(\"Digite a operação soma(+) sub(-) multi(*) divi(/): )\").strip()\n",
    "numero2 = int(input(\"Digite outro número: \"))\n",
    "\n",
    "if opc == \"+\":\n",
    "    print(f\"A soma dos números {numero1} e {numero2} é {soma(numero1,numero2)}\")\n",
    "elif opc == \"-\":\n",
    "    print(f\"A subtração dos números {numero1} e {numero2} é {subtracao(numero1,numero2)}\")\n",
    "elif opc == \"*\":\n",
    "    print(f\"A multiplicação dos números {numero1} e {numero2} é {multiplicacao(numero1,numero2)}\")\n",
    "elif opc == \"/\":\n",
    "    if numero2 == 0:\n",
    "        print(\"Não existe divisão por zero\")\n",
    "    else:\n",
    "        print(f\"A subtração dos números {numero1} e {numero2} é {divisao(numero1,numero2)}\")\n",
    "else:\n",
    "    print(\"opção incorreta\")"
   ]
  },
  {
   "cell_type": "code",
   "execution_count": null,
   "id": "07aaa8c3",
   "metadata": {},
   "outputs": [],
   "source": [
    "def operacao(n1,n2,opc):\n",
    "    if opc == \"+\":\n",
    "        return n1 + n2\n",
    "    elif opc == \"-\":\n",
    "        return n1 - n2\n",
    "    elif opc == \"*\":\n",
    "        return n1 * n2\n",
    "    elif opc == \"/\":\n",
    "        if n2 == 0:\n",
    "            return \"Não existe divisão por 0\"\n",
    "        else:\n",
    "            return n1 / n2\n",
    "\n",
    "numero1 = int(input(\"Digite um numero: \"))\n",
    "opc = input(\"Digite a operação soma(+) sub(-) multi(*) divi(/): )\").strip()\n",
    "numero2 = int(input(\"Digite outro número: \"))\n",
    "print(f\"O resultado da operação é {operacao(numero1,numero2,opc)}\")"
   ]
  },
  {
   "cell_type": "code",
   "execution_count": null,
   "id": "162386b1",
   "metadata": {},
   "outputs": [],
   "source": [
    "def operacao(n1,n2,opc):\n",
    "    if opc == \"+\":\n",
    "        return f\"A soma dos números {n1} e {n1} é {n1 + n2}\"\n",
    "    elif opc == \"-\":\n",
    "        return f\"A subtração dos números {n1} e {n2} é {n1 - n2}\"\n",
    "    elif opc == \"*\":\n",
    "        return f\"A multiplicação dos números {n1} e {n2} é {n1 * n2}\"\n",
    "    elif opc == \"/\":\n",
    "        if n2 == 0:\n",
    "            return \"Não existe divisão por 0\"\n",
    "        else:\n",
    "            return f\"A subtração dos números {n1} e {n2} é {n1 / n2}\"\n",
    "\n",
    "numero1 = int(input(\"Digite um numero: \"))\n",
    "opc = input(\"Digite a operação soma(+) sub(-) multi(*) divi(/): )\").strip()\n",
    "numero2 = int(input(\"Digite outro número: \"))\n",
    "print(f\"O resultado da operação é {operacao(numero1,numero2,opc)}\")"
   ]
  },
  {
   "cell_type": "code",
   "execution_count": null,
   "id": "2dd8e189",
   "metadata": {},
   "outputs": [],
   "source": [
    "#Variaveis locais e globais \n",
    "def mostrar():\n",
    "    mensagem = \"teste\"\n",
    "    print(mensagem)"
   ]
  },
  {
   "cell_type": "code",
   "execution_count": 10,
   "id": "4afab629",
   "metadata": {},
   "outputs": [
    {
     "name": "stdout",
     "output_type": "stream",
     "text": [
      "100.0\n",
      "O valor dentro da função 50.0\n",
      "50.0\n"
     ]
    }
   ],
   "source": [
    "valor = 100.0 #Variavel global\n",
    "def calcular():\n",
    "    global valor\n",
    "    valor = 50.0 #Variavel local\n",
    "    print(f\"O valor dentro da função {valor}\")\n",
    "\n",
    "print(valor)\n",
    "calcular()\n",
    "print(valor)"
   ]
  },
  {
   "cell_type": "code",
   "execution_count": 15,
   "id": "17a9bfe8",
   "metadata": {},
   "outputs": [
    {
     "name": "stdout",
     "output_type": "stream",
     "text": [
      "Soma é 17\n"
     ]
    },
    {
     "data": {
      "text/plain": [
       "17"
      ]
     },
     "execution_count": 15,
     "metadata": {},
     "output_type": "execute_result"
    }
   ],
   "source": [
    "#Funções com parâmetros opcional\n",
    "def soma2(valor1,valor2,imprimir = False):\n",
    "    resultado = valor1 + valor2\n",
    "    if imprimir:\n",
    "        print(f\"Soma é {resultado}\")\n",
    "    return resultado\n",
    "\n",
    "soma2(10,7,True)"
   ]
  },
  {
   "cell_type": "code",
   "execution_count": 24,
   "id": "2a9be24f",
   "metadata": {},
   "outputs": [
    {
     "name": "stdout",
     "output_type": "stream",
     "text": [
      "%%%%%%%%%%%%%%%%%%%%%%%%%%%%%%%%%%%%%%%%\n",
      "%%%%%%%%%%%%%%%%%%%%%%%%%%%%%%%%%%%%%%%%\n",
      "%%%%%%%%%%%%%%%%%%%%%%%%%%%%%%%%%%%%%%%%\n",
      "%%%%%%%%%%%%%%%%%%%%%%%%%%%%%%%%%%%%%%%%\n",
      "%%%%%%%%%%%%%%%%%%%%%%%%%%%%%%%%%%%%%%%%\n",
      "%%%%%%%%%%%%%%%%%%%%%%%%%%%%%%%%%%%%%%%%\n"
     ]
    }
   ],
   "source": [
    "def retangulo(largura,altura, caractere = \"*\"):\n",
    "    linha = caractere * largura\n",
    "    for i in range(altura):\n",
    "        print(linha)\n",
    "\n",
    "retangulo(40,6,\"%\")"
   ]
  },
  {
   "cell_type": "code",
   "execution_count": null,
   "id": "d0828f73",
   "metadata": {},
   "outputs": [
    {
     "data": {
      "text/plain": [
       "'A media foi de 6.93'"
      ]
     },
     "execution_count": 26,
     "metadata": {},
     "output_type": "execute_result"
    }
   ],
   "source": [
    "def calcular_media(*notas):\n",
    "    total = 0\n",
    "    for valor in notas:\n",
    "        total += valor\n",
    "    return f\"A media foi de {total/len(notas):.2f}\"\n",
    "\n",
    "\n",
    "calcular_media(10,8,7,5,4,6,7,3,2,9,9,9,9,9)"
   ]
  },
  {
   "cell_type": "code",
   "execution_count": null,
   "id": "22c14ced",
   "metadata": {},
   "outputs": [
    {
     "name": "stdout",
     "output_type": "stream",
     "text": [
      "100 - Placa de video GTX 6090 TI - Gygabyte confia - R$950.0\n",
      "200 - Fone Wireless - Sonya - R$50.0\n",
      "300 - Carregador tipo C - Semsunga - R$100.0\n",
      "--------------------------------------------------\n"
     ]
    }
   ],
   "source": [
    "estoque = {\n",
    "    100: {\n",
    "        \"descrição\": \"Placa de video GTX 6090 TI\",\n",
    "        \"valor\": 950.00,\n",
    "        \"marca\": \"Gygabyte confia\"\n",
    "    },\n",
    "    200: {\n",
    "        \"descrição\": \"Fone Wireless\",\n",
    "        \"valor\": 50.00,\n",
    "        \"marca\": \"Sonya\"\n",
    "    },\n",
    "    300:{\n",
    "        \"descrição\": \"Carregador tipo C\",\n",
    "        \"valor\": 100.00,\n",
    "        \"marca\": \"Semsunga\"\n",
    "    }\n",
    "\n",
    "}\n",
    "\n",
    "\n",
    "def listar_estoque():\n",
    "    for produto in estoque.keys():\n",
    "        print(f\"{produto} - {estoque[produto][\"descrição\"]} - {estoque[produto][\"marca\"]} - R${estoque[produto][\"valor\"]}\")\n",
    "    print(\"-\"*70)\n",
    "\n",
    "\n",
    "def cadastrar():\n",
    "    id = int(input(\"Digite o codigo do produto: \"))\n",
    "    if id in estoque:\n",
    "        print(\"Produto ja está cadastrado!\")\n",
    "    else:\n",
    "        estoque[id] = {\n",
    "            \"descrição\": input(\"Digite a descrição do produto: \"),\n",
    "            \"valor\": float(input(\"Digite o valor do produto: \")),\n",
    "            \"marca\": input(\"Digite a marca do produto: \")\n",
    "        }\n",
    "        listar_estoque()\n",
    "\n",
    "def excluir():\n",
    "    id = int(input(\"Digite o codigo do produto: \"))\n",
    "    if id in estoque\n",
    "\n",
    "\n",
    "\n",
    "listar_estoque()\n",
    "cadastrar()"
   ]
  },
  {
   "cell_type": "code",
   "execution_count": null,
   "id": "4ebf7689",
   "metadata": {},
   "outputs": [],
   "source": []
  }
 ],
 "metadata": {
  "kernelspec": {
   "display_name": "Python 3",
   "language": "python",
   "name": "python3"
  },
  "language_info": {
   "codemirror_mode": {
    "name": "ipython",
    "version": 3
   },
   "file_extension": ".py",
   "mimetype": "text/x-python",
   "name": "python",
   "nbconvert_exporter": "python",
   "pygments_lexer": "ipython3",
   "version": "3.13.5"
  }
 },
 "nbformat": 4,
 "nbformat_minor": 5
}
