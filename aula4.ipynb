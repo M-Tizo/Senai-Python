{
 "cells": [
  {
   "cell_type": "markdown",
   "metadata": {},
   "source": [
    "# Loop For"
   ]
  },
  {
   "cell_type": "code",
   "execution_count": null,
   "metadata": {},
   "outputs": [],
   "source": [
    "# for i in range()\n",
    "\n",
    "contador = 0 #Exemplo com while\n",
    "while contador < 5:\n",
    "    print(contador)\n",
    "    contador += 1\n",
    "\n",
    "#Repetir uma ação 5 vezes\n",
    "for i in range(0,5):\n",
    "    print(f\"Tentativa número {i+1}\")"
   ]
  },
  {
   "cell_type": "code",
   "execution_count": null,
   "metadata": {},
   "outputs": [],
   "source": [
    "#range(inicio,fim,salto)\n",
    "for i in range(0,11,2):\n",
    "    print(i)"
   ]
  },
  {
   "cell_type": "code",
   "execution_count": null,
   "metadata": {},
   "outputs": [],
   "source": [
    "#Tabuada usando for\n",
    "\n",
    "numero = int(input(\"Digite um número para descobrir a tabuada\"))\n",
    "for i in range(1,11):\n",
    "    print(f\"Quanto é {numero} X {i} = {numero * i} \")"
   ]
  },
  {
   "cell_type": "code",
   "execution_count": null,
   "metadata": {},
   "outputs": [],
   "source": [
    "#For com lista\n",
    "#Usando para percorrer diretamente os elementos de uma lista\n",
    "clientes = [\"Balder\", \"Carlos\", \"Maria\", \"Felipe\"]\n",
    "print(clientes[2])#Acessar valor da lista\n",
    "\n",
    "#A cada repetição, a variavel assume um dos valores da lista\n",
    "for cliente in clientes:\n",
    "    print(f\"Enviando email para {clientes}\")"
   ]
  },
  {
   "cell_type": "code",
   "execution_count": null,
   "metadata": {},
   "outputs": [],
   "source": [
    "#Soma valores com lista\n",
    "valores = [100,250,300,500]\n",
    "total = 0\n",
    "for valor in valores:\n",
    "    total += valor\n",
    "print(f\"Total vendido: {total}\")"
   ]
  },
  {
   "cell_type": "code",
   "execution_count": null,
   "metadata": {},
   "outputs": [],
   "source": [
    "frutas = [\"maçâ\",\"morango\",\"laranja\"]\n",
    "#len() para rodar o numero de itens na lista\n",
    "for fruta in range(len(frutas)):\n",
    "    print(f\"A fruta na posição {fruta} é {frutas[fruta]}\")"
   ]
  },
  {
   "cell_type": "code",
   "execution_count": null,
   "metadata": {},
   "outputs": [],
   "source": [
    "#for com enumerate() (indica + valor ao mesmo tempo)\n",
    "nomes = [\"Guilherme\", \"Emilly\", \"Marcus\"]\n",
    "\n",
    "for i, nome in enumerate(nomes):\n",
    "    print(f\" {i+1}º aluno = {nome}\")"
   ]
  },
  {
   "cell_type": "code",
   "execution_count": null,
   "metadata": {},
   "outputs": [],
   "source": [
    "perguntas = [\"Qual seu nome?\", \"Qual a sua idade\", \"Qual o seu curso\"]\n",
    "\n",
    "for i, pergunta in enumerate(perguntas):\n",
    "    print(f\"{i+1}º pergunta: {pergunta}\")"
   ]
  },
  {
   "cell_type": "code",
   "execution_count": null,
   "metadata": {},
   "outputs": [],
   "source": [
    "#Exemplo - notas dos alunos\n",
    "alunos = [\"Nicolas\", \"Gisleine\", \"Gabriel\", \"Lucas\"]\n",
    "\n",
    "notas = [6.5, 7, 8.5, 9]\n",
    "\n",
    "print(\"Boletim\")\n",
    "for i, nome in enumerate(alunos):\n",
    "    print(f\"{nome} tirou {notas[i]}\")"
   ]
  },
  {
   "cell_type": "code",
   "execution_count": null,
   "metadata": {},
   "outputs": [],
   "source": [
    "consumo = [10.2,9.5,11.0,8.7,10.0,9.8,10.5]\n",
    "total = 0\n",
    "dias = len(consumo)\n",
    "for i, dia in enumerate(consumo):\n",
    "    total += consumo[i]\n",
    "    print(f\"O consumo de combustivel do {i+1}º dia foi de {consumo[i]}\")\n",
    "\n",
    "media = total / dias\n",
    "print(f\"A media de consumo do carro nesses dias foi de {media:.2f} litros\")"
   ]
  },
  {
   "cell_type": "code",
   "execution_count": null,
   "metadata": {},
   "outputs": [],
   "source": [
    "precos = [10.0,15.5,20.0,8.9]\n",
    "total = 0\n",
    "\n",
    "for i in range(len(precos)):\n",
    "    print(f\"O valor do {i+1}º produto com um aumento de 10% é de {precos[i] * 1.1:.2f}\")\n",
    "    total += precos[i] * 1.1\n",
    "print(f\"O total dos produtos ficou em {total:.2f}\")"
   ]
  },
  {
   "cell_type": "markdown",
   "metadata": {},
   "source": [
    "# Estruturas de dados"
   ]
  },
  {
   "cell_type": "markdown",
   "metadata": {},
   "source": [
    "# Lista (vetor) "
   ]
  },
  {
   "cell_type": "code",
   "execution_count": 11,
   "metadata": {},
   "outputs": [],
   "source": [
    "#                  0             1         2\n",
    "bancos = [\"Banco do Brasil\", \"Itau\", \"Santander\"]\n",
    "#                 -3            -2        -1"
   ]
  },
  {
   "cell_type": "code",
   "execution_count": null,
   "metadata": {},
   "outputs": [
    {
     "name": "stdout",
     "output_type": "stream",
     "text": [
      "['Banco do Brasil', 'Itau', 'Santander']\n",
      "['Bradesco', 'Itau', 'Santander']\n"
     ]
    }
   ],
   "source": [
    "#Alterando valor de dados na lista\n",
    "print(bancos)\n",
    "bancos[0] = \"Bradesco\"\n",
    "print(bancos)"
   ]
  },
  {
   "cell_type": "code",
   "execution_count": null,
   "metadata": {},
   "outputs": [],
   "source": [
    "#Percorrendo os valores da  lista com for\n",
    "cores = [\"Preto\",\"Roxo\",\"Azul\"]\n",
    "\n",
    "for cor in cores:\n",
    "    print(f\"Cor {cor}\")\n",
    "\n",
    "for i in range(len(cores)):\n",
    "    print(f\"cor {cores[i]}\")"
   ]
  },
  {
   "cell_type": "code",
   "execution_count": null,
   "metadata": {},
   "outputs": [],
   "source": []
  }
 ],
 "metadata": {
  "kernelspec": {
   "display_name": "Python 3",
   "language": "python",
   "name": "python3"
  },
  "language_info": {
   "codemirror_mode": {
    "name": "ipython",
    "version": 3
   },
   "file_extension": ".py",
   "mimetype": "text/x-python",
   "name": "python",
   "nbconvert_exporter": "python",
   "pygments_lexer": "ipython3",
   "version": "3.13.2"
  }
 },
 "nbformat": 4,
 "nbformat_minor": 2
}
