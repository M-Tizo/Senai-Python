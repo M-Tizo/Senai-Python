{
 "cells": [
  {
   "cell_type": "markdown",
   "metadata": {},
   "source": [
    "# Escrevendo o primeiro programa"
   ]
  },
  {
   "cell_type": "code",
   "execution_count": 3,
   "metadata": {},
   "outputs": [
    {
     "name": "stdout",
     "output_type": "stream",
     "text": [
      "Olá, mundo\n"
     ]
    }
   ],
   "source": [
    "# Saida de dados\n",
    "print(\"Olá, mundo\")"
   ]
  },
  {
   "cell_type": "code",
   "execution_count": null,
   "metadata": {},
   "outputs": [],
   "source": [
    "#Criando uma variavel\n",
    "nome_completo = \"Marlon Tizo\"\n",
    "idade = 17\n",
    "\n",
    "print(f\"Seu nome é {nome_completo}, e sua Idade é {idade}\")\n"
   ]
  },
  {
   "cell_type": "markdown",
   "metadata": {},
   "source": [
    "# Tipos de dados(int,float,bool,str)"
   ]
  },
  {
   "cell_type": "code",
   "execution_count": null,
   "metadata": {},
   "outputs": [],
   "source": [
    "# Números int e float\n",
    "idade = 17 #tipo int\n",
    "altura = 1.96 #tipo float\n",
    "peso = float(70.0)  #outra maneira de utilizar o float\n",
    "\n",
    "print(f\"{idade} \\n{altura} \\n{peso}\")"
   ]
  },
  {
   "cell_type": "code",
   "execution_count": null,
   "metadata": {},
   "outputs": [],
   "source": [
    "#Tipo bool - verdadeiro ou falso (True ou False)\n",
    "\n",
    "idade = 18\n",
    "alistamento_obrigatorio = True\n",
    "\n",
    "print(\"Precisa se alistar\",alistamento_obrigatorio)\n",
    "\n",
    "horario_saida = False\n",
    "print(\"Vamos para casa?\", horario_saida)"
   ]
  },
  {
   "cell_type": "code",
   "execution_count": 10,
   "metadata": {},
   "outputs": [],
   "source": [
    "#Tipo str (string) - texto\n",
    "carro =  \"Meu carro é um Lancer\"\n",
    "carro1 = \"Meu carro é um Chevette Tubarão Turbo\"\n",
    "textao = \"\"\" Hoje eu conheci o python\n",
    "Com o professor\n",
    "Gabriel Brito\n",
    "\"\"\"\n",
    "\n",
    "texto = str(\"Marlon\")"
   ]
  },
  {
   "cell_type": "code",
   "execution_count": null,
   "metadata": {},
   "outputs": [],
   "source": [
    "nome = input(\"Digite seu nome: \")\n",
    "print(\"Seja Bem-Vindo(a)\", nome)"
   ]
  },
  {
   "cell_type": "code",
   "execution_count": null,
   "metadata": {},
   "outputs": [],
   "source": [
    "#Exercicio\n",
    "\n",
    "nome = \"Marlon\"\n",
    "idade = 17\n",
    "curso = \"Desenvolvimento de Sistemas\"\n",
    "hobby = \"Ciclismo \"\n",
    "\n",
    "print(f\"Oi pessoal! Meu nome é {nome}, tenho {idade} anos, estou no curso de {curso} e gosto de praticar {hobby}.\")"
   ]
  },
  {
   "cell_type": "code",
   "execution_count": null,
   "metadata": {},
   "outputs": [],
   "source": [
    "#Formatação de string - f - strings\n",
    "produto = \"coca-cola\"\n",
    "preco = 8.456871\n",
    "print(f\"A {produto} custa: R${preco:.2f}\")"
   ]
  },
  {
   "cell_type": "markdown",
   "metadata": {},
   "source": [
    "# Operadores aritméticos"
   ]
  },
  {
   "cell_type": "code",
   "execution_count": null,
   "metadata": {},
   "outputs": [],
   "source": [
    "#Soma\n",
    "soma = 5 + 30\n",
    "print(f\"A soma é {soma}\")\n"
   ]
  },
  {
   "cell_type": "code",
   "execution_count": null,
   "metadata": {},
   "outputs": [],
   "source": [
    "#Subtração\n",
    "sub = 14 - 8\n",
    "print(f\"A subtração é {sub}\")\n"
   ]
  },
  {
   "cell_type": "code",
   "execution_count": null,
   "metadata": {},
   "outputs": [],
   "source": [
    "#Multiplicação\n",
    "multi = 7 * 3\n",
    "print(f\"A multiplicação é {multi}\")"
   ]
  },
  {
   "cell_type": "code",
   "execution_count": null,
   "metadata": {},
   "outputs": [],
   "source": [
    "#Divisão \n",
    "divi = 7 / 4\n",
    "print(f\"A divisão é {divi}\")\n",
    "\n",
    "#simplificando\n",
    "print(int(divi))\n",
    "\n",
    "#Divisão inteira\n",
    "div = 7 // 4\n",
    "print(f\"A divisão inteira é {div}\")"
   ]
  },
  {
   "cell_type": "code",
   "execution_count": null,
   "metadata": {},
   "outputs": [],
   "source": [
    "# Modulo\n",
    "\n",
    "modulo = 25 % 2\n",
    "print(f\"O resto da divisão é {modulo}\")\n",
    "\n",
    "#se for 1 é impar, se for 0 é par\n",
    "#sempre q o resto for 1 na divisão por 2, o numero é impar"
   ]
  },
  {
   "cell_type": "code",
   "execution_count": null,
   "metadata": {},
   "outputs": [],
   "source": [
    "#Potência\n",
    "elevado = 5 ** 3\n",
    "print(f\"O número elevado é {elevado}\")"
   ]
  },
  {
   "cell_type": "code",
   "execution_count": null,
   "metadata": {},
   "outputs": [],
   "source": [
    "#Exemplo \n",
    "numero1 = float(input(\"Digite um número: \"))\n",
    "numero2 = float(input(\"Digite outro número: \"))\n",
    "soma = numero1 + numero2\n",
    "\n",
    "print(f\"A soma dos números {numero1} e {numero2} é {soma}\")\n",
    "\n",
    "#Outra maneira\n",
    "\"\"\"\n",
    "numero1 = input(\"Digite um número: \")\n",
    "numero2 = input(\"Digite outro número: \")\n",
    "soma = float(numero1) + float(numero2) \n",
    "\"\"\"\n",
    "#print(f\"A soma dos números {numero1} e {numero2} é {numero1 + numero2}\")\n"
   ]
  },
  {
   "cell_type": "code",
   "execution_count": 28,
   "metadata": {},
   "outputs": [
    {
     "name": "stdout",
     "output_type": "stream",
     "text": [
      "Bem-Vindo a calculadora de viagem\n",
      "Serão necessários 270.00 litros para a viagem\n",
      "O motorista ira gastar um total de R$1682.10 com a gasolina\n"
     ]
    }
   ],
   "source": [
    "#Exercicio\n",
    "\n",
    "print(\"Bem-Vindo a calculadora de viagem\")\n",
    "dist = float(input(\"Digite a distancia da viagem(em km): \"))\n",
    "cons = float(input(\"Digite quantos km o carro faz por litro: \"))\n",
    "preco = float(input(\"Digite o preço da gasolina(por litro): \"))\n",
    "\n",
    "print(f\"Serão necessários {dist / cons:.2f} litros para a viagem\")\n",
    "print(f\"O motorista ira gastar um total de R${(dist / cons) * preco:.2f} com a gasolina\")"
   ]
  }
 ],
 "metadata": {
  "kernelspec": {
   "display_name": "Python 3",
   "language": "python",
   "name": "python3"
  },
  "language_info": {
   "codemirror_mode": {
    "name": "ipython",
    "version": 3
   },
   "file_extension": ".py",
   "mimetype": "text/x-python",
   "name": "python",
   "nbconvert_exporter": "python",
   "pygments_lexer": "ipython3",
   "version": "3.13.2"
  }
 },
 "nbformat": 4,
 "nbformat_minor": 2
}
