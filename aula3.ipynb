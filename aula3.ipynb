{
 "cells": [
  {
   "cell_type": "markdown",
   "metadata": {},
   "source": [
    "# Loop while"
   ]
  },
  {
   "cell_type": "markdown",
   "metadata": {},
   "source": [
    "# Operadores de atribuição"
   ]
  },
  {
   "cell_type": "code",
   "execution_count": 1,
   "metadata": {},
   "outputs": [],
   "source": [
    "#Operador de atribuição simples (=)\n",
    "nome = \"Gabriel\"\n",
    "idade = 33"
   ]
  },
  {
   "cell_type": "code",
   "execution_count": 7,
   "metadata": {},
   "outputs": [
    {
     "name": "stdout",
     "output_type": "stream",
     "text": [
      "10\n",
      "15\n",
      "20\n"
     ]
    }
   ],
   "source": [
    "#Operador de atribuição com adição/soma (+=)\n",
    "qtd = 10\n",
    "print(qtd)\n",
    "qtd = qtd + 5\n",
    "print(qtd)\n",
    "qtd += 5\n",
    "print(qtd)"
   ]
  },
  {
   "cell_type": "code",
   "execution_count": 8,
   "metadata": {},
   "outputs": [
    {
     "name": "stdout",
     "output_type": "stream",
     "text": [
      "3\n"
     ]
    }
   ],
   "source": [
    "#Operador de atribuição com subtração (-=)\n",
    "qtd = 5\n",
    "qtd -=2\n",
    "print(qtd)"
   ]
  },
  {
   "cell_type": "markdown",
   "metadata": {},
   "source": [
    "# Trabalhando com While"
   ]
  },
  {
   "cell_type": "code",
   "execution_count": 22,
   "metadata": {},
   "outputs": [
    {
     "name": "stdout",
     "output_type": "stream",
     "text": [
      "Contador está em 0\n",
      "Contador está em 1\n",
      "Contador está em 2\n",
      "Contador está em 3\n",
      "Contador está em 4\n",
      "Contador está em 5\n"
     ]
    }
   ],
   "source": [
    "#Enquanto o contador for menor ou igual a 5, ele imprime o valor e soma +1\n",
    "#A condição tem que deixar de ser verdadeira dentro do loop, senão pode travar o computador.\n",
    "\n",
    "contador = 0\n",
    "while contador <= 5:\n",
    "    print(f\"Contador está em {contador}\")\n",
    "    contador += 1"
   ]
  },
  {
   "cell_type": "code",
   "execution_count": 23,
   "metadata": {},
   "outputs": [],
   "source": [
    "#Entrada no loop somente se a condição for verdadeira \n",
    "valor = 11\n",
    "while valor < 10:\n",
    "    print(valor)\n",
    "    valor += 1"
   ]
  },
  {
   "cell_type": "code",
   "execution_count": 69,
   "metadata": {},
   "outputs": [],
   "source": [
    "senha = \"\"\n",
    "tentativa = 3\n",
    "\n",
    "while True:\n",
    "    senha = input(\"Digite a senha: \")\n",
    "    if senha == \"python123\":\n",
    "        break\n",
    "    else:\n",
    "        tentativa -= 1\n",
    "        print(f\"Você errou, sobrou {tentativa} tentativas\")\n",
    "        if tentativa == 1:\n",
    "            print(\"Dica de senha: python\")\n",
    "        elif tentativa == 0:\n",
    "            print(\"Suas tentativas acabaram!\")\n",
    "            break"
   ]
  },
  {
   "cell_type": "code",
   "execution_count": 73,
   "metadata": {},
   "outputs": [
    {
     "name": "stdout",
     "output_type": "stream",
     "text": [
      "Senha incorreta. Tente novamente.\n",
      "Senha incorreta. Tente novamente.\n",
      "Acesso liberado\n"
     ]
    }
   ],
   "source": [
    "#Validção de senha \n",
    "senha_correta = \"python123\"\n",
    "while True:\n",
    "    senha = input(\"Digite a senha: \")\n",
    "    if senha == senha_correta:\n",
    "        print(\"Acesso liberado\")\n",
    "        break\n",
    "    else:\n",
    "        print(\"Senha incorreta. Tente novamente.\")"
   ]
  },
  {
   "cell_type": "code",
   "execution_count": 74,
   "metadata": {},
   "outputs": [
    {
     "name": "stdout",
     "output_type": "stream",
     "text": [
      "Erroouu!\n",
      "Erroouu!\n",
      "Erroouu!\n",
      "Certa resposta.\n"
     ]
    }
   ],
   "source": [
    "valor = int(input(\"Quanto é 2+2: \"))\n",
    "while valor != 4:\n",
    "    print(\"Erroouu!\")\n",
    "    valor = int(input(\"Quanto é 2+2: \"))\n",
    "print(\"Certa resposta.\")"
   ]
  },
  {
   "cell_type": "code",
   "execution_count": null,
   "metadata": {},
   "outputs": [],
   "source": [
    "#Utilizando o while True validação de opções de menu\n",
    "users = []\n",
    "while True:\n",
    "    try:\n",
    "        print(\"\\nMenu: \")\n",
    "        print(\"1. Cadastrar\")\n",
    "        print(\"2. Consultar\")\n",
    "        print(\"3. Sair\")\n",
    "        \n",
    "        opc = int(input(\"Selecione uma das opções acima: \"))\n",
    "\n",
    "        if opc == 3:\n",
    "            print(\"Saindo do sistema....\")\n",
    "            break\n",
    "        \n",
    "        if opc == 1:\n",
    "\n",
    "            nome = input(\"Digite seu nome e sobrenome: \")\n",
    "            users.append(nome)\n",
    "            idade = int(input(\"Quantos anos você tem: \"))\n",
    "            users.append(idade)\n",
    "            email = input(\"Digite seu email: \")\n",
    "            users.append(email)\n",
    "\n",
    "        if opc == 2:\n",
    "            print(users)\n",
    "\n",
    "    except ValueError:\n",
    "        print(\"valor invalido\")"
   ]
  },
  {
   "cell_type": "code",
   "execution_count": null,
   "metadata": {},
   "outputs": [],
   "source": [
    "#Validação do e-mail (presença do \"@\")\n",
    "\n",
    "while True:\n",
    "    email = input(\"Digite um e-mail: \")\n",
    "    if \"@\" in email:\n",
    "        break\n",
    "    else:\n",
    "        print(\"E-mail inválido. Deve conter @\")\n",
    "        print(f\"E-mail registrado com sucesso: {email}\")\n"
   ]
  },
  {
   "cell_type": "code",
   "execution_count": 82,
   "metadata": {},
   "outputs": [
    {
     "name": "stdout",
     "output_type": "stream",
     "text": [
      "forma informadas 4 notas\n",
      "A media do aluno foi de 8.5\n"
     ]
    }
   ],
   "source": [
    "#Média da sala de aula\n",
    "total_notas = 0\n",
    "qtd_notas = 0\n",
    "\n",
    "while True:\n",
    "    nota = float(input(\"Digite a nota (ou  -1 para finalizar)\"))\n",
    "    if nota == -1:\n",
    "        break\n",
    "    else:\n",
    "        total_notas += nota\n",
    "        qtd_notas += 1\n",
    "\n",
    "if qtd_notas > 0:\n",
    "    media = total_notas / qtd_notas\n",
    "    print(f\"forma informadas {qtd_notas} notas\")\n",
    "    print(f\"A media do aluno foi de {media}\")\n",
    "else:\n",
    "    print(\"Nenhuma nota informada!\")\n",
    "\n"
   ]
  }
 ],
 "metadata": {
  "kernelspec": {
   "display_name": "Python 3",
   "language": "python",
   "name": "python3"
  },
  "language_info": {
   "codemirror_mode": {
    "name": "ipython",
    "version": 3
   },
   "file_extension": ".py",
   "mimetype": "text/x-python",
   "name": "python",
   "nbconvert_exporter": "python",
   "pygments_lexer": "ipython3",
   "version": "3.13.2"
  }
 },
 "nbformat": 4,
 "nbformat_minor": 2
}
